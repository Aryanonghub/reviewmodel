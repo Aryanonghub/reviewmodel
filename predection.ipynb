{
 "cells": [
  {
   "cell_type": "code",
   "execution_count": 35,
   "metadata": {},
   "outputs": [],
   "source": [
    "import tensorflow as tf\n",
    "from tensorflow.keras.datasets import imdb\n",
    "from tensorflow.keras.preprocessing import sequence\n",
    "from tensorflow.keras.models import Sequential\n",
    "from tensorflow.keras.models import load_model\n",
    "\n"
   ]
  },
  {
   "cell_type": "code",
   "execution_count": 36,
   "metadata": {},
   "outputs": [],
   "source": [
    "word_index=imdb.get_word_index()\n",
    "reverse_word_index={value: key for key, value in word_index.items()}"
   ]
  },
  {
   "cell_type": "code",
   "execution_count": 37,
   "metadata": {},
   "outputs": [
    {
     "name": "stderr",
     "output_type": "stream",
     "text": [
      "WARNING:absl:Compiled the loaded model, but the compiled metrics have yet to be built. `model.compile_metrics` will be empty until you train or evaluate the model.\n"
     ]
    },
    {
     "data": {
      "text/html": [
       "<pre style=\"white-space:pre;overflow-x:auto;line-height:normal;font-family:Menlo,'DejaVu Sans Mono',consolas,'Courier New',monospace\"><span style=\"font-weight: bold\">Model: \"sequential_13\"</span>\n",
       "</pre>\n"
      ],
      "text/plain": [
       "\u001b[1mModel: \"sequential_13\"\u001b[0m\n"
      ]
     },
     "metadata": {},
     "output_type": "display_data"
    },
    {
     "data": {
      "text/html": [
       "<pre style=\"white-space:pre;overflow-x:auto;line-height:normal;font-family:Menlo,'DejaVu Sans Mono',consolas,'Courier New',monospace\">┏━━━━━━━━━━━━━━━━━━━━━━━━━━━━━━━━━┳━━━━━━━━━━━━━━━━━━━━━━━━┳━━━━━━━━━━━━━━━┓\n",
       "┃<span style=\"font-weight: bold\"> Layer (type)                    </span>┃<span style=\"font-weight: bold\"> Output Shape           </span>┃<span style=\"font-weight: bold\">       Param # </span>┃\n",
       "┡━━━━━━━━━━━━━━━━━━━━━━━━━━━━━━━━━╇━━━━━━━━━━━━━━━━━━━━━━━━╇━━━━━━━━━━━━━━━┩\n",
       "│ embedding_12 (<span style=\"color: #0087ff; text-decoration-color: #0087ff\">Embedding</span>)        │ (<span style=\"color: #00af00; text-decoration-color: #00af00\">32</span>, <span style=\"color: #00af00; text-decoration-color: #00af00\">500</span>, <span style=\"color: #00af00; text-decoration-color: #00af00\">128</span>)         │     <span style=\"color: #00af00; text-decoration-color: #00af00\">1,280,000</span> │\n",
       "├─────────────────────────────────┼────────────────────────┼───────────────┤\n",
       "│ simple_rnn_12 (<span style=\"color: #0087ff; text-decoration-color: #0087ff\">SimpleRNN</span>)       │ (<span style=\"color: #00af00; text-decoration-color: #00af00\">32</span>, <span style=\"color: #00af00; text-decoration-color: #00af00\">128</span>)              │        <span style=\"color: #00af00; text-decoration-color: #00af00\">32,896</span> │\n",
       "├─────────────────────────────────┼────────────────────────┼───────────────┤\n",
       "│ dense_12 (<span style=\"color: #0087ff; text-decoration-color: #0087ff\">Dense</span>)                │ (<span style=\"color: #00af00; text-decoration-color: #00af00\">32</span>, <span style=\"color: #00af00; text-decoration-color: #00af00\">1</span>)                │           <span style=\"color: #00af00; text-decoration-color: #00af00\">129</span> │\n",
       "└─────────────────────────────────┴────────────────────────┴───────────────┘\n",
       "</pre>\n"
      ],
      "text/plain": [
       "┏━━━━━━━━━━━━━━━━━━━━━━━━━━━━━━━━━┳━━━━━━━━━━━━━━━━━━━━━━━━┳━━━━━━━━━━━━━━━┓\n",
       "┃\u001b[1m \u001b[0m\u001b[1mLayer (type)                   \u001b[0m\u001b[1m \u001b[0m┃\u001b[1m \u001b[0m\u001b[1mOutput Shape          \u001b[0m\u001b[1m \u001b[0m┃\u001b[1m \u001b[0m\u001b[1m      Param #\u001b[0m\u001b[1m \u001b[0m┃\n",
       "┡━━━━━━━━━━━━━━━━━━━━━━━━━━━━━━━━━╇━━━━━━━━━━━━━━━━━━━━━━━━╇━━━━━━━━━━━━━━━┩\n",
       "│ embedding_12 (\u001b[38;5;33mEmbedding\u001b[0m)        │ (\u001b[38;5;34m32\u001b[0m, \u001b[38;5;34m500\u001b[0m, \u001b[38;5;34m128\u001b[0m)         │     \u001b[38;5;34m1,280,000\u001b[0m │\n",
       "├─────────────────────────────────┼────────────────────────┼───────────────┤\n",
       "│ simple_rnn_12 (\u001b[38;5;33mSimpleRNN\u001b[0m)       │ (\u001b[38;5;34m32\u001b[0m, \u001b[38;5;34m128\u001b[0m)              │        \u001b[38;5;34m32,896\u001b[0m │\n",
       "├─────────────────────────────────┼────────────────────────┼───────────────┤\n",
       "│ dense_12 (\u001b[38;5;33mDense\u001b[0m)                │ (\u001b[38;5;34m32\u001b[0m, \u001b[38;5;34m1\u001b[0m)                │           \u001b[38;5;34m129\u001b[0m │\n",
       "└─────────────────────────────────┴────────────────────────┴───────────────┘\n"
      ]
     },
     "metadata": {},
     "output_type": "display_data"
    },
    {
     "data": {
      "text/html": [
       "<pre style=\"white-space:pre;overflow-x:auto;line-height:normal;font-family:Menlo,'DejaVu Sans Mono',consolas,'Courier New',monospace\"><span style=\"font-weight: bold\"> Total params: </span><span style=\"color: #00af00; text-decoration-color: #00af00\">1,313,027</span> (5.01 MB)\n",
       "</pre>\n"
      ],
      "text/plain": [
       "\u001b[1m Total params: \u001b[0m\u001b[38;5;34m1,313,027\u001b[0m (5.01 MB)\n"
      ]
     },
     "metadata": {},
     "output_type": "display_data"
    },
    {
     "data": {
      "text/html": [
       "<pre style=\"white-space:pre;overflow-x:auto;line-height:normal;font-family:Menlo,'DejaVu Sans Mono',consolas,'Courier New',monospace\"><span style=\"font-weight: bold\"> Trainable params: </span><span style=\"color: #00af00; text-decoration-color: #00af00\">1,313,025</span> (5.01 MB)\n",
       "</pre>\n"
      ],
      "text/plain": [
       "\u001b[1m Trainable params: \u001b[0m\u001b[38;5;34m1,313,025\u001b[0m (5.01 MB)\n"
      ]
     },
     "metadata": {},
     "output_type": "display_data"
    },
    {
     "data": {
      "text/html": [
       "<pre style=\"white-space:pre;overflow-x:auto;line-height:normal;font-family:Menlo,'DejaVu Sans Mono',consolas,'Courier New',monospace\"><span style=\"font-weight: bold\"> Non-trainable params: </span><span style=\"color: #00af00; text-decoration-color: #00af00\">0</span> (0.00 B)\n",
       "</pre>\n"
      ],
      "text/plain": [
       "\u001b[1m Non-trainable params: \u001b[0m\u001b[38;5;34m0\u001b[0m (0.00 B)\n"
      ]
     },
     "metadata": {},
     "output_type": "display_data"
    },
    {
     "data": {
      "text/html": [
       "<pre style=\"white-space:pre;overflow-x:auto;line-height:normal;font-family:Menlo,'DejaVu Sans Mono',consolas,'Courier New',monospace\"><span style=\"font-weight: bold\"> Optimizer params: </span><span style=\"color: #00af00; text-decoration-color: #00af00\">2</span> (12.00 B)\n",
       "</pre>\n"
      ],
      "text/plain": [
       "\u001b[1m Optimizer params: \u001b[0m\u001b[38;5;34m2\u001b[0m (12.00 B)\n"
      ]
     },
     "metadata": {},
     "output_type": "display_data"
    }
   ],
   "source": [
    "#load the pre- trained model with Relu activation\n",
    "model=load_model('simple_rnn_imdb.h5')\n",
    "model.summary()"
   ]
  },
  {
   "cell_type": "code",
   "execution_count": 38,
   "metadata": {},
   "outputs": [
    {
     "data": {
      "text/plain": [
       "[array([[-0.5660677 , -0.8340751 ,  0.677357  , ...,  0.88529193,\n",
       "          0.6676388 ,  0.45297134],\n",
       "        [-0.01690063, -0.09091239,  0.02609389, ...,  0.01906363,\n",
       "          0.01484858,  0.05379229],\n",
       "        [-0.11343248, -0.10066812,  0.05720969, ...,  0.09604231,\n",
       "          0.03004599,  0.05548343],\n",
       "        ...,\n",
       "        [-0.00560913,  0.07788286,  0.02347293, ...,  0.00411295,\n",
       "          0.04901797,  0.03798117],\n",
       "        [ 0.0588944 ,  0.02175546, -0.05416126, ...,  0.09358702,\n",
       "         -0.13276526, -0.04137687],\n",
       "        [-0.16353881,  0.01055442,  0.07787938, ..., -0.06199741,\n",
       "          0.12712723,  0.1581561 ]], dtype=float32),\n",
       " array([[-0.10238426,  0.12473857,  0.05819287, ...,  0.03669427,\n",
       "          0.02665153, -0.0307513 ],\n",
       "        [ 0.12964581, -0.08465523, -0.06465302, ..., -0.05763127,\n",
       "         -0.10293563,  0.08223506],\n",
       "        [ 0.07841884,  0.0817357 ,  0.1028169 , ...,  0.05164946,\n",
       "         -0.12175585,  0.00982483],\n",
       "        ...,\n",
       "        [ 0.00870258,  0.1115573 ,  0.02924967, ...,  0.06181413,\n",
       "          0.0719576 , -0.06330604],\n",
       "        [ 0.1154512 ,  0.06533005,  0.02985304, ..., -0.01052755,\n",
       "         -0.0664433 , -0.04333001],\n",
       "        [ 0.01109411, -0.07091256, -0.09708244, ..., -0.09094552,\n",
       "          0.11973456,  0.05842682]], dtype=float32),\n",
       " array([[ 3.4566030e-02,  1.4623839e-01,  2.6132092e-01, ...,\n",
       "          1.0357256e-04,  3.7429180e-02, -2.8809255e-02],\n",
       "        [-6.3091964e-02,  9.4929442e-02, -9.5538395e-03, ...,\n",
       "          3.0781697e-02,  1.3387972e-01,  2.9058101e-02],\n",
       "        [-1.2702696e-01,  1.1174091e-01,  1.8633854e-01, ...,\n",
       "          5.1654730e-02, -9.1226466e-02, -1.0379137e-01],\n",
       "        ...,\n",
       "        [-2.2275845e-02,  1.9732628e-02,  6.5673202e-02, ...,\n",
       "          3.3143298e-03, -5.1219285e-02, -1.1000239e-01],\n",
       "        [ 3.1550992e-02,  5.3132955e-02, -1.3200440e-01, ...,\n",
       "          1.1973985e-01, -2.5509330e-03, -1.0546161e-01],\n",
       "        [-8.3796203e-02, -4.0249504e-02, -6.3476257e-02, ...,\n",
       "          4.9910326e-02,  1.2098304e-01,  5.3397797e-02]], dtype=float32),\n",
       " array([ 2.00115703e-02,  3.28962645e-03,  1.28533347e-02, -2.75581609e-02,\n",
       "        -2.28785183e-02, -7.52432924e-03, -3.93704465e-03,  7.77703337e-03,\n",
       "        -1.71987228e-02, -1.77450571e-02, -2.28639096e-02, -9.54697374e-03,\n",
       "         2.14737793e-03,  4.87653725e-03,  9.20797959e-02, -1.63059477e-02,\n",
       "         4.99868765e-03,  1.68265291e-02, -5.96739352e-04,  1.55146448e-02,\n",
       "         1.21502345e-02,  1.11590987e-02,  2.12453753e-02, -1.20077776e-02,\n",
       "        -3.31262406e-03,  1.50129236e-02, -2.63089500e-02, -1.72284022e-02,\n",
       "         6.12223614e-03,  1.90906022e-02,  2.10659746e-02, -1.45619353e-02,\n",
       "         1.92628177e-05,  2.43352484e-02,  4.11656685e-03, -2.73920391e-02,\n",
       "        -1.18929865e-02,  1.91583149e-02, -1.45882089e-02, -3.17448913e-03,\n",
       "        -1.32291391e-02, -1.06812092e-02,  1.52443433e-02, -7.13306712e-03,\n",
       "         2.41611581e-02,  7.66854081e-03, -1.61958113e-03,  1.22809049e-03,\n",
       "        -2.15586852e-02, -1.65522024e-02,  1.06459716e-02,  3.62458313e-03,\n",
       "        -1.56416316e-02,  2.39839535e-02, -1.71125419e-02,  2.35237740e-02,\n",
       "        -3.16004409e-03, -9.08045564e-03,  7.43103633e-03,  1.43116014e-02,\n",
       "        -8.23937170e-03, -1.37059214e-02,  2.04941165e-02,  4.12423676e-03,\n",
       "        -1.24524757e-02, -6.94455532e-03, -9.56660789e-03, -1.93318687e-02,\n",
       "         2.36175340e-02, -1.26146954e-02, -1.19357342e-02, -2.10615378e-02,\n",
       "        -5.83098596e-03, -7.37386569e-03, -6.31467253e-02,  6.30116416e-03,\n",
       "        -2.10739020e-02, -4.15911386e-03, -8.77364306e-04,  1.98191833e-02,\n",
       "        -8.09554011e-03,  1.15360471e-03,  6.69093616e-03, -1.21351350e-02,\n",
       "        -1.34063829e-02,  7.58882388e-02,  2.18822844e-02,  2.38428754e-03,\n",
       "        -1.58421583e-02, -7.87474774e-03,  1.45898042e-02, -2.71524629e-03,\n",
       "         1.90500300e-02,  1.80556104e-02,  2.81017441e-02, -2.82234494e-02,\n",
       "         2.63139270e-02, -1.61317606e-02, -5.83933759e-03,  7.50728510e-03,\n",
       "        -1.86948236e-02,  2.30663400e-02, -2.53709778e-02, -1.91213731e-02,\n",
       "         2.88389623e-02, -3.20229344e-02, -6.58885948e-03, -9.94140282e-03,\n",
       "        -3.78855951e-02,  2.38615070e-02, -1.75571609e-02, -9.99650732e-03,\n",
       "         1.46502703e-02,  2.99789254e-02,  9.55687743e-03, -8.47306028e-02,\n",
       "         1.35980258e-02,  4.70121484e-03,  9.59083997e-03, -4.00765799e-02,\n",
       "         6.95218472e-03,  1.32069997e-02, -2.08571646e-03,  2.08921228e-02,\n",
       "         2.25972831e-02,  1.23934513e-02,  1.73560213e-02, -3.24142799e-02],\n",
       "       dtype=float32),\n",
       " array([[-0.26389053],\n",
       "        [-0.17011105],\n",
       "        [ 0.19565639],\n",
       "        [-0.13713545],\n",
       "        [ 0.06924286],\n",
       "        [ 0.24249075],\n",
       "        [-0.14876659],\n",
       "        [ 0.22217007],\n",
       "        [ 0.05335139],\n",
       "        [ 0.20808879],\n",
       "        [ 0.10450158],\n",
       "        [-0.7264143 ],\n",
       "        [ 0.09241339],\n",
       "        [ 0.11559039],\n",
       "        [-0.24670692],\n",
       "        [ 0.08055897],\n",
       "        [-0.03035908],\n",
       "        [ 0.17681006],\n",
       "        [ 0.06986571],\n",
       "        [ 0.06958571],\n",
       "        [-0.16628169],\n",
       "        [ 0.13756302],\n",
       "        [ 0.22183548],\n",
       "        [ 0.04796465],\n",
       "        [ 0.06044009],\n",
       "        [-0.03042224],\n",
       "        [ 0.05662954],\n",
       "        [-0.07544915],\n",
       "        [-0.080503  ],\n",
       "        [-0.03388367],\n",
       "        [-0.00993462],\n",
       "        [ 0.14002867],\n",
       "        [ 0.20002303],\n",
       "        [ 0.17118688],\n",
       "        [ 0.21091798],\n",
       "        [-0.20960422],\n",
       "        [-0.12548271],\n",
       "        [ 0.21796255],\n",
       "        [ 0.1236629 ],\n",
       "        [-0.0306823 ],\n",
       "        [-0.01118588],\n",
       "        [ 0.15575327],\n",
       "        [-0.20759648],\n",
       "        [-0.11757424],\n",
       "        [-0.10091992],\n",
       "        [ 0.01991379],\n",
       "        [-0.15180926],\n",
       "        [ 0.12684558],\n",
       "        [-0.11523041],\n",
       "        [ 0.11347319],\n",
       "        [-0.16166513],\n",
       "        [ 0.57332706],\n",
       "        [ 0.02301171],\n",
       "        [-0.05922441],\n",
       "        [-0.12595826],\n",
       "        [ 0.2339366 ],\n",
       "        [-0.188963  ],\n",
       "        [-0.16851498],\n",
       "        [ 0.07735885],\n",
       "        [-0.21066196],\n",
       "        [-0.01884022],\n",
       "        [ 0.2233643 ],\n",
       "        [-0.22075161],\n",
       "        [ 0.20483474],\n",
       "        [ 0.17341329],\n",
       "        [-0.06076789],\n",
       "        [ 0.14853811],\n",
       "        [-0.19794182],\n",
       "        [ 0.1451699 ],\n",
       "        [ 0.06764055],\n",
       "        [-0.20108879],\n",
       "        [-0.05527445],\n",
       "        [-0.07932831],\n",
       "        [-0.8200444 ],\n",
       "        [ 0.2644704 ],\n",
       "        [ 0.199842  ],\n",
       "        [ 0.07910419],\n",
       "        [ 0.26965836],\n",
       "        [-0.04791266],\n",
       "        [ 0.02414047],\n",
       "        [ 0.14135034],\n",
       "        [-0.11702139],\n",
       "        [-0.01600532],\n",
       "        [-0.61239254],\n",
       "        [-0.10662808],\n",
       "        [-0.23725502],\n",
       "        [-0.23566528],\n",
       "        [-0.01887312],\n",
       "        [ 0.22374232],\n",
       "        [ 0.26652464],\n",
       "        [-0.65200424],\n",
       "        [-0.00450814],\n",
       "        [-0.14144383],\n",
       "        [ 0.11095025],\n",
       "        [ 0.24807583],\n",
       "        [-0.07151592],\n",
       "        [-0.11483339],\n",
       "        [-0.07315482],\n",
       "        [ 0.12511383],\n",
       "        [-0.13922532],\n",
       "        [ 0.02808574],\n",
       "        [-0.1568534 ],\n",
       "        [-0.00357872],\n",
       "        [-0.01571607],\n",
       "        [-0.11555536],\n",
       "        [ 0.12409381],\n",
       "        [-0.07393373],\n",
       "        [-0.11652787],\n",
       "        [-0.01423288],\n",
       "        [ 0.21055865],\n",
       "        [ 0.05772999],\n",
       "        [ 0.22459285],\n",
       "        [-0.14082152],\n",
       "        [-0.0586188 ],\n",
       "        [ 0.2406885 ],\n",
       "        [ 0.01918442],\n",
       "        [ 0.03859736],\n",
       "        [ 0.21707521],\n",
       "        [-0.01399696],\n",
       "        [ 0.16869059],\n",
       "        [-0.0395357 ],\n",
       "        [-0.17196956],\n",
       "        [-0.19915585],\n",
       "        [-0.19152282],\n",
       "        [-0.1522864 ],\n",
       "        [ 0.08281371],\n",
       "        [ 0.21703126],\n",
       "        [-0.01545192]], dtype=float32),\n",
       " array([-0.19922908], dtype=float32)]"
      ]
     },
     "execution_count": 38,
     "metadata": {},
     "output_type": "execute_result"
    }
   ],
   "source": [
    "## see the weights\n",
    "model.get_weights()"
   ]
  },
  {
   "cell_type": "code",
   "execution_count": 39,
   "metadata": {},
   "outputs": [],
   "source": [
    "#step 2 helper functions\n",
    "#function to decode review\n",
    "def decode_review(encoded_review):\n",
    "    return ' '.join([reverse_word_index.get(i - 3,'?') for i in encoded_review])\n",
    "    \n",
    " #function to preprocessor user input\n",
    "def preprocessor_text(text):\n",
    "    words=text.lower().split()\n",
    "    encoded_review= [word_index.get(word, 2) + 3 for word in words]\n",
    "    padded_review =sequence.pad_sequences([encoded_review],maxlen=500)\n",
    "    return padded_review   "
   ]
  },
  {
   "cell_type": "code",
   "execution_count": 40,
   "metadata": {},
   "outputs": [],
   "source": [
    "#prediction function\n",
    "\n",
    "def predict_sentiment(review):\n",
    "    preprocessed_input=preprocessor_text(review)\n",
    "    \n",
    "\n",
    "    prediction=model.predict(preprocessed_input)\n",
    "\n",
    "\n",
    "    sentiment = 'Positive' if prediction[0][0] > 0.5 else 'Negative'\n",
    "\n",
    "    return sentiment, prediction[0][0]\n",
    "\n"
   ]
  },
  {
   "cell_type": "code",
   "execution_count": 46,
   "metadata": {},
   "outputs": [
    {
     "name": "stdout",
     "output_type": "stream",
     "text": [
      "\u001b[1m1/1\u001b[0m \u001b[32m━━━━━━━━━━━━━━━━━━━━\u001b[0m\u001b[37m\u001b[0m \u001b[1m0s\u001b[0m 35ms/step\n",
      "review:this movie was bad! The acting was bad and the plot was bad.\n",
      "sentiment:Negative\n",
      "Prediction score:0.3084968328475952\n"
     ]
    }
   ],
   "source": [
    "example_review=\"this movie was bad! The acting was bad and the plot was bad.\"\n",
    "sentiment,score=predict_sentiment(example_review)\n",
    "\n",
    "print(f'review:{example_review}')\n",
    "print(f'sentiment:{sentiment}')\n",
    "print(f'Prediction score:{score}')"
   ]
  }
 ],
 "metadata": {
  "kernelspec": {
   "display_name": "Python 3.11.7 ('base')",
   "language": "python",
   "name": "python3"
  },
  "language_info": {
   "codemirror_mode": {
    "name": "ipython",
    "version": 3
   },
   "file_extension": ".py",
   "mimetype": "text/x-python",
   "name": "python",
   "nbconvert_exporter": "python",
   "pygments_lexer": "ipython3",
   "version": "3.11.7"
  },
  "orig_nbformat": 4,
  "vscode": {
   "interpreter": {
    "hash": "40d3a090f54c6569ab1632332b64b2c03c39dcf918b08424e98f38b5ae0af88f"
   }
  }
 },
 "nbformat": 4,
 "nbformat_minor": 2
}
